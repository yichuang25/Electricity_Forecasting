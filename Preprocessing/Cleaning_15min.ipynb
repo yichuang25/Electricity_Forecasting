{
 "cells": [
  {
   "cell_type": "code",
   "execution_count": null,
   "metadata": {},
   "outputs": [],
   "source": [
    "import pandas as pd\n",
    "import numpy as np\n",
    "import matplotlib.pyplot as plt"
   ]
  },
  {
   "cell_type": "code",
   "execution_count": null,
   "metadata": {},
   "outputs": [],
   "source": [
    "df = pd.read_csv('../Data/LD2011_2014.txt', sep=';',low_memory=False, decimal=',', parse_dates=True, index_col=0)\n",
    "df"
   ]
  },
  {
   "cell_type": "code",
   "execution_count": null,
   "metadata": {},
   "outputs": [],
   "source": [
    "df_yr = df.resample('Y').sum()\n",
    "df_yr"
   ]
  },
  {
   "cell_type": "code",
   "execution_count": null,
   "metadata": {},
   "outputs": [],
   "source": [
    "# choose year from 2012 to 2014\n",
    "df_filtered_15min = df.loc['2012-01-01 00:15:00':'2015-01-01 00:15:00'] \n",
    "df_filtered_15min"
   ]
  },
  {
   "cell_type": "code",
   "execution_count": null,
   "metadata": {},
   "outputs": [],
   "source": [
    "# drop row with all 0\n",
    "df_filtered_15min.sum(axis=1)"
   ]
  },
  {
   "cell_type": "code",
   "execution_count": null,
   "metadata": {},
   "outputs": [],
   "source": [
    "# check yerly sum\n",
    "df_filted_1y = df_filtered_15min.resample('Y').sum()\n",
    "df_filted_1y"
   ]
  },
  {
   "cell_type": "code",
   "execution_count": null,
   "metadata": {},
   "outputs": [],
   "source": [
    "# remove colums contain only zeros\n",
    "colmns = df_filted_1y.columns[(df_filted_1y == 0).any()]\n",
    "len(colmns)\n",
    "\n"
   ]
  },
  {
   "cell_type": "code",
   "execution_count": null,
   "metadata": {},
   "outputs": [],
   "source": [
    "df_filtered_15min = df_filtered_15min.drop(colmns, axis=1)\n",
    "df_filtered_15min"
   ]
  },
  {
   "cell_type": "code",
   "execution_count": null,
   "metadata": {},
   "outputs": [],
   "source": [
    "#df_filtered_15min.to_pickle('../Data/ELC_12-14_15min.pkl')"
   ]
  },
  {
   "cell_type": "code",
   "execution_count": null,
   "metadata": {},
   "outputs": [],
   "source": [
    "df_filtered_90d = df_filtered_15min.resample('90D').sum()\n",
    "colmns = df_filtered_90d.columns[(df_filtered_90d == 0).any()]\n",
    "print(len(colmns))"
   ]
  },
  {
   "cell_type": "code",
   "execution_count": null,
   "metadata": {},
   "outputs": [],
   "source": [
    "# remove colums contain only zeros in 90 days\n",
    "df_filtered_15min = df_filtered_15min.drop(colmns, axis=1)\n",
    "df_filtered_15min\n"
   ]
  },
  {
   "cell_type": "code",
   "execution_count": null,
   "metadata": {},
   "outputs": [],
   "source": [
    "df_filtered_15min.replace(0, np.nan, inplace=True)\n",
    "df_filtered_15min.isnull().sum()[df_filtered_15min.isnull().sum() / len(df_filtered_15min) > 0.01]"
   ]
  },
  {
   "cell_type": "code",
   "execution_count": null,
   "metadata": {},
   "outputs": [],
   "source": [
    "columns = df_filtered_15min.isnull().sum()[df_filtered_15min.isnull().sum() / len(df_filtered_15min) > 0.01].index\n",
    "df_filtered_15min = df_filtered_15min.drop(columns, axis=1)\n",
    "df_filtered_15min"
   ]
  },
  {
   "cell_type": "code",
   "execution_count": null,
   "metadata": {},
   "outputs": [],
   "source": [
    "df_filtered_15min.isnull().sum()"
   ]
  },
  {
   "cell_type": "code",
   "execution_count": null,
   "metadata": {},
   "outputs": [],
   "source": [
    "#df_filtered_15min.to_pickle('../Data/ELC_12-14_15min.pkl')"
   ]
  },
  {
   "cell_type": "code",
   "execution_count": null,
   "metadata": {},
   "outputs": [],
   "source": [
    "# impute missing values\n",
    "from sklearn.experimental import enable_iterative_imputer\n",
    "from sklearn.impute import IterativeImputer\n",
    "from sklearn import linear_model\n",
    "\n",
    "\n",
    "mice_imputer = IterativeImputer(missing_values=np.nan, random_state=42, initial_strategy='median',estimator=linear_model.BayesianRidge(),n_nearest_features=5)\n",
    "\n",
    "df_filtered_15min = pd.DataFrame(mice_imputer.fit_transform(df_filtered_15min), columns=df_filtered_15min.columns, index=df_filtered_15min.index)\n",
    "df_filtered_15min"
   ]
  },
  {
   "cell_type": "code",
   "execution_count": null,
   "metadata": {},
   "outputs": [],
   "source": [
    "df_filtered_15min.isnull().sum()"
   ]
  },
  {
   "cell_type": "code",
   "execution_count": null,
   "metadata": {},
   "outputs": [],
   "source": []
  },
  {
   "cell_type": "code",
   "execution_count": null,
   "metadata": {},
   "outputs": [],
   "source": [
    "df_filtered_1h = df_filtered_15min.resample('H').sum()\n",
    "df_filtered_1h.replace(0, np.nan, inplace=True)\n",
    "df_filtered_1h.isnull().sum()"
   ]
  },
  {
   "cell_type": "code",
   "execution_count": null,
   "metadata": {},
   "outputs": [],
   "source": [
    "df_filtered_1d = df_filtered_15min.resample('D').sum()\n",
    "df_filtered_1d.replace(0, np.nan, inplace=True)\n",
    "df_filtered_1d.isnull().sum()"
   ]
  },
  {
   "cell_type": "code",
   "execution_count": null,
   "metadata": {},
   "outputs": [],
   "source": [
    "df_filtered_1d['MT_004'].plot()"
   ]
  },
  {
   "cell_type": "code",
   "execution_count": null,
   "metadata": {},
   "outputs": [],
   "source": []
  }
 ],
 "metadata": {
  "kernelspec": {
   "display_name": "Python 3",
   "language": "python",
   "name": "python3"
  },
  "language_info": {
   "codemirror_mode": {
    "name": "ipython",
    "version": 3
   },
   "file_extension": ".py",
   "mimetype": "text/x-python",
   "name": "python",
   "nbconvert_exporter": "python",
   "pygments_lexer": "ipython3",
   "version": "3.9.12"
  },
  "orig_nbformat": 4,
  "vscode": {
   "interpreter": {
    "hash": "b0fa6594d8f4cbf19f97940f81e996739fb7646882a419484c72d19e05852a7e"
   }
  }
 },
 "nbformat": 4,
 "nbformat_minor": 2
}
